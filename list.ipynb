{
 "cells": [
  {
   "cell_type": "code",
   "execution_count": 17,
   "id": "ed13390d",
   "metadata": {},
   "outputs": [
    {
     "name": "stdout",
     "output_type": "stream",
     "text": [
      "30\n"
     ]
    }
   ],
   "source": [
    "## declaraiton\n",
    "numbers = [100,20,30,40,50] # int\n",
    "\n",
    "list_er_moddhe_list = [[100,20,30],[14,12,31],[13,12,12]]\n",
    "print(list_er_moddhe_list[0][2])"
   ]
  },
  {
   "cell_type": "code",
   "execution_count": 5,
   "id": "14191084",
   "metadata": {},
   "outputs": [
    {
     "name": "stdout",
     "output_type": "stream",
     "text": [
      "30\n",
      "90\n",
      "[100, 20, 90, 40]\n"
     ]
    }
   ],
   "source": [
    "\n",
    "print(numbers[2])\n",
    "\n",
    "numbers[2] = 90\n",
    "\n",
    "print(numbers[2])\n",
    "\n",
    "new_list = numbers[0:4]\n",
    "print(new_list)"
   ]
  },
  {
   "cell_type": "code",
   "execution_count": 10,
   "id": "e1614aba",
   "metadata": {},
   "outputs": [
    {
     "name": "stdout",
     "output_type": "stream",
     "text": [
      "[45, 45, 100, 20, 90, 40, 50, 80, 80, 80, 80]\n",
      "[45, 45, 45, 100, 20, 90, 40, 50, 80, 80, 80, 80]\n"
     ]
    }
   ],
   "source": [
    "## modification\n",
    "\n",
    "## adding a item to last (append)\n",
    "\n",
    "numbers.append(80)\n",
    "print(numbers)\n",
    "\n",
    "## adding a item to the first (insert)\n",
    "numbers.insert(0,45)\n",
    "print(numbers)"
   ]
  },
  {
   "cell_type": "code",
   "execution_count": 15,
   "id": "0bb4ce10",
   "metadata": {},
   "outputs": [],
   "source": [
    "## deleting\n",
    "numbers.pop()\n",
    "\n",
    "## deleting a specific values\n",
    "numbers.remove(90)\n",
    "\n"
   ]
  }
 ],
 "metadata": {
  "kernelspec": {
   "display_name": "Python 3",
   "language": "python",
   "name": "python3"
  },
  "language_info": {
   "codemirror_mode": {
    "name": "ipython",
    "version": 3
   },
   "file_extension": ".py",
   "mimetype": "text/x-python",
   "name": "python",
   "nbconvert_exporter": "python",
   "pygments_lexer": "ipython3",
   "version": "3.13.7"
  }
 },
 "nbformat": 4,
 "nbformat_minor": 5
}
