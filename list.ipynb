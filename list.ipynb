{
 "cells": [
  {
   "cell_type": "code",
   "execution_count": 17,
   "id": "ed13390d",
   "metadata": {},
   "outputs": [
    {
     "name": "stdout",
     "output_type": "stream",
     "text": [
      "30\n"
     ]
    }
   ],
   "source": [
    "## declaraiton\n",
    "numbers = [100,20,30,40,50] # int\n",
    "\n",
    "list_er_moddhe_list = [[100,20,30],[14,12,31],[13,12,12]]\n",
    "print(list_er_moddhe_list[0][2])"
   ]
  },
  {
   "cell_type": "code",
   "execution_count": 5,
   "id": "14191084",
   "metadata": {},
   "outputs": [
    {
     "name": "stdout",
     "output_type": "stream",
     "text": [
      "30\n",
      "90\n",
      "[100, 20, 90, 40]\n"
     ]
    }
   ],
   "source": [
    "\n",
    "print(numbers[2])\n",
    "\n",
    "numbers[2] = 90\n",
    "\n",
    "print(numbers[2])\n",
    "\n",
    "new_list = numbers[0:4]\n",
    "print(new_list)"
   ]
  },
  {
   "cell_type": "code",
   "execution_count": 10,
   "id": "e1614aba",
   "metadata": {},
   "outputs": [
    {
     "name": "stdout",
     "output_type": "stream",
     "text": [
      "[45, 45, 100, 20, 90, 40, 50, 80, 80, 80, 80]\n",
      "[45, 45, 45, 100, 20, 90, 40, 50, 80, 80, 80, 80]\n"
     ]
    }
   ],
   "source": [
    "## modification\n",
    "\n",
    "## adding a item to last (append)\n",
    "\n",
    "numbers.append(80)\n",
    "print(numbers)\n",
    "\n",
    "## adding a item to the first (insert)\n",
    "numbers.insert(0,45)\n",
    "print(numbers)"
   ]
  },
  {
   "cell_type": "code",
   "execution_count": 19,
   "id": "0bb4ce10",
   "metadata": {},
   "outputs": [
    {
     "ename": "ValueError",
     "evalue": "list.remove(x): x not in list",
     "output_type": "error",
     "traceback": [
      "\u001b[31m---------------------------------------------------------------------------\u001b[39m",
      "\u001b[31mValueError\u001b[39m                                Traceback (most recent call last)",
      "\u001b[36mCell\u001b[39m\u001b[36m \u001b[39m\u001b[32mIn[19]\u001b[39m\u001b[32m, line 5\u001b[39m\n\u001b[32m      2\u001b[39m numbers.pop()\n\u001b[32m      4\u001b[39m \u001b[38;5;66;03m## deleting a specific values\u001b[39;00m\n\u001b[32m----> \u001b[39m\u001b[32m5\u001b[39m \u001b[43mnumbers\u001b[49m\u001b[43m.\u001b[49m\u001b[43mremove\u001b[49m\u001b[43m(\u001b[49m\u001b[32;43m90\u001b[39;49m\u001b[43m)\u001b[49m\n\u001b[32m      6\u001b[39m \u001b[38;5;28mprint\u001b[39m(numbers)\n",
      "\u001b[31mValueError\u001b[39m: list.remove(x): x not in list"
     ]
    }
   ],
   "source": [
    "## deleting\n",
    "numbers.pop()\n",
    "\n",
    "## deleting a specific values\n",
    "numbers.remove(90)\n",
    "print(numbers)\n"
   ]
  },
  {
   "cell_type": "code",
   "execution_count": 18,
   "id": "e50f6003",
   "metadata": {},
   "outputs": [
    {
     "name": "stdout",
     "output_type": "stream",
     "text": [
      "[20, 30, 40, 50, 100]\n",
      "[100, 50, 40, 30, 20]\n"
     ]
    }
   ],
   "source": [
    "numbers.sort()\n",
    "print(numbers)\n",
    "\n",
    "numbers.reverse()\n",
    "print(numbers)"
   ]
  },
  {
   "cell_type": "markdown",
   "id": "f8b8981f",
   "metadata": {},
   "source": [
    "### List comprehension\n"
   ]
  },
  {
   "cell_type": "code",
   "execution_count": 1,
   "id": "bf9f27a8",
   "metadata": {},
   "outputs": [
    {
     "name": "stdout",
     "output_type": "stream",
     "text": [
      "[0, 2, 4, 6, 8, 10, 12, 14, 16, 18, 20, 22, 24, 26, 28, 30, 32, 34, 36, 38, 40, 42, 44, 46, 48, 50, 52, 54, 56, 58, 60, 62, 64, 66, 68, 70, 72, 74, 76, 78, 80, 82, 84, 86, 88, 90, 92, 94, 96, 98, 100]\n"
     ]
    }
   ],
   "source": [
    "even = []\n",
    "\n",
    "for i in range(101):\n",
    "   if i%2==0:\n",
    "      even.append(i)\n",
    "print(even)"
   ]
  },
  {
   "cell_type": "code",
   "execution_count": 6,
   "id": "2f9f19b4",
   "metadata": {},
   "outputs": [
    {
     "name": "stdout",
     "output_type": "stream",
     "text": [
      "The list is even [0, 2, 4, 6, 8]\n"
     ]
    }
   ],
   "source": [
    "random_list = [x for x in range(10) if x%2==0]\n",
    "print(\"The list is even\", random_list)"
   ]
  },
  {
   "cell_type": "code",
   "execution_count": 7,
   "id": "dd7e7e88",
   "metadata": {},
   "outputs": [
    {
     "name": "stdout",
     "output_type": "stream",
     "text": [
      "['apple', 'orange', 'lichi']\n"
     ]
    }
   ],
   "source": [
    "fruits = ['Apple' , 'ORange', 'LiCHi']\n",
    "\n",
    "upper_fruits = [fruit.lower() for fruit in fruits]\n",
    "print(upper_fruits)"
   ]
  }
 ],
 "metadata": {
  "kernelspec": {
   "display_name": "Python 3",
   "language": "python",
   "name": "python3"
  },
  "language_info": {
   "codemirror_mode": {
    "name": "ipython",
    "version": 3
   },
   "file_extension": ".py",
   "mimetype": "text/x-python",
   "name": "python",
   "nbconvert_exporter": "python",
   "pygments_lexer": "ipython3",
   "version": "3.13.7"
  }
 },
 "nbformat": 4,
 "nbformat_minor": 5
}
