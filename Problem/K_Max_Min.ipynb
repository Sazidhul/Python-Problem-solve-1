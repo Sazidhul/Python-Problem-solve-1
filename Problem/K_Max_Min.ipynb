{
 "cells": [
  {
   "cell_type": "markdown",
   "id": "187fcbb6",
   "metadata": {},
   "source": [
    "K. Max and Min\n",
    "\n",
    "Given 3 numbers A, B and C, Print the minimum and the maximum numbers.\n",
    "\n",
    "Input\n",
    "Only one line containing 3 numbers A, B and C ( - 105 ≤ A, B, C ≤ 105)\n",
    "\n",
    "Output\n",
    "Print the minimum number followed by a single space then print the maximum number.\n",
    "\n",
    "Examples\n",
    "InputCopy\n",
    "1 2 3\n",
    "OutputCopy\n",
    "1 3\n",
    "InputCopy\n",
    "-1 -2 -3\n",
    "OutputCopy\n",
    "-3 -1\n",
    "InputCopy\n",
    "10 20 -5\n",
    "OutputCopy\n",
    "-5 20\n"
   ]
  },
  {
   "cell_type": "code",
   "execution_count": 5,
   "id": "924cedd3",
   "metadata": {},
   "outputs": [
    {
     "name": "stdout",
     "output_type": "stream",
     "text": [
      "1 3\n"
     ]
    }
   ],
   "source": [
    "inp = input()\n",
    "\n",
    "numbers = inp.split()\n",
    "\n",
    "x = int(numbers[0])\n",
    "y = int(numbers[1])\n",
    "z = int(numbers[2])\n",
    "\n",
    "min = x\n",
    "max = x\n",
    "\n",
    "#mini\n",
    "if y < min:\n",
    "   min = y\n",
    "if z < min:\n",
    "   min = z\n",
    "\n",
    "#max \n",
    "if y > max:\n",
    "   max = y\n",
    "if z > max:\n",
    "   max = z\n",
    "print(min, max)\n"
   ]
  },
  {
   "cell_type": "code",
   "execution_count": 11,
   "id": "c7e4da8d",
   "metadata": {},
   "outputs": [
    {
     "name": "stdout",
     "output_type": "stream",
     "text": [
      "-5 20\n"
     ]
    }
   ],
   "source": [
    "inp = input()\n",
    "numbers = inp.split()\n",
    "\n",
    "A = int(numbers[0])\n",
    "B = int(numbers[1])\n",
    "C = int(numbers[2])\n",
    "\n",
    "max = A\n",
    "min = A\n",
    "\n",
    "# min\n",
    "if B < min :\n",
    "   min = B \n",
    "if C < min :\n",
    "   min = C\n",
    "\n",
    "# max\n",
    "if B > max :\n",
    "   max = B\n",
    "if C > max :\n",
    "   max = C\n",
    "\n",
    "print(min , max)"
   ]
  },
  {
   "cell_type": "code",
   "execution_count": null,
   "id": "d786c739",
   "metadata": {},
   "outputs": [],
   "source": []
  }
 ],
 "metadata": {
  "kernelspec": {
   "display_name": "Python 3",
   "language": "python",
   "name": "python3"
  },
  "language_info": {
   "codemirror_mode": {
    "name": "ipython",
    "version": 3
   },
   "file_extension": ".py",
   "mimetype": "text/x-python",
   "name": "python",
   "nbconvert_exporter": "python",
   "pygments_lexer": "ipython3",
   "version": "3.13.7"
  }
 },
 "nbformat": 4,
 "nbformat_minor": 5
}
