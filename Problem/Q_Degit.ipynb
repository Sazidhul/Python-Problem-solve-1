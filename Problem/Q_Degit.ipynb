{
 "cells": [
  {
   "cell_type": "markdown",
   "id": "a6662e1a",
   "metadata": {},
   "source": [
    "Q. Digits\n",
    "Given a number N. Print the digits of that number from right to left separated by space.\n",
    "\n",
    "Input\n",
    "First line contains a number T (1 ≤ T ≤ 10) number of test cases.\n",
    "\n",
    "Next T lines will contain a number N (0 ≤ N ≤ 109)\n",
    "\n",
    "Output\n",
    "For each test case print a single line contains the digits of the number separated by space.\n",
    "\n",
    "Example\n",
    "input\n",
    "4\n",
    "121\n",
    "39\n",
    "123456\n",
    "1200\n",
    "output\n",
    "4\n",
    "121\n",
    "39\n",
    "123456\n",
    "1200\n",
    "\n"
   ]
  },
  {
   "cell_type": "code",
   "execution_count": 20,
   "id": "37b2980f",
   "metadata": {},
   "outputs": [
    {
     "name": "stdout",
     "output_type": "stream",
     "text": [
      "1 2 1 \n",
      "0\n",
      "9 3 \n"
     ]
    }
   ],
   "source": [
    "T = int(input())\n",
    "for i in range(T): \n",
    "   number = int(input())\n",
    "   if number == 0:\n",
    "      print(0)\n",
    "      continue\n",
    "   while number > 0:\n",
    "      print(number%10, end=\" \")\n",
    "      number//= 10\n",
    "   print()\n"
   ]
  },
  {
   "cell_type": "code",
   "execution_count": null,
   "id": "3995b3b3",
   "metadata": {},
   "outputs": [],
   "source": []
  }
 ],
 "metadata": {
  "kernelspec": {
   "display_name": "Python 3",
   "language": "python",
   "name": "python3"
  },
  "language_info": {
   "codemirror_mode": {
    "name": "ipython",
    "version": 3
   },
   "file_extension": ".py",
   "mimetype": "text/x-python",
   "name": "python",
   "nbconvert_exporter": "python",
   "pygments_lexer": "ipython3",
   "version": "3.13.7"
  }
 },
 "nbformat": 4,
 "nbformat_minor": 5
}
