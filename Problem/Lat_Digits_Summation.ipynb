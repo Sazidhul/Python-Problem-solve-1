{
 "cells": [
  {
   "cell_type": "markdown",
   "id": "95b41a1d",
   "metadata": {},
   "source": [
    "#Given two numbers N and M. Print the summation of their last digits\n",
    "#input: Only one line containing two numbers \n",
    "#Output: Print the answer of the problem.\n",
    "#Example:input: 13 12 Output: 5\n",
    "#Note: First Example: last digit in the first number is 3 and last digit in the second number is 2.\n",
    "#So the answer is: (3 + 2 = 5)"
   ]
  },
  {
   "cell_type": "code",
   "execution_count": 8,
   "id": "17f83d9c",
   "metadata": {},
   "outputs": [
    {
     "name": "stdout",
     "output_type": "stream",
     "text": [
      "5\n"
     ]
    }
   ],
   "source": [
    "inp = input()\n",
    "numbers = inp.split()\n",
    "\n",
    "N = int((numbers[0]))\n",
    "M = int((numbers[1]))\n",
    "\n",
    "last_Digit_of_N = N % 10\n",
    "last_Digit_of_M = M % 10\n",
    "\n",
    "sum = last_Digit_of_N + last_Digit_of_M\n",
    "print(sum)\n"
   ]
  },
  {
   "cell_type": "code",
   "execution_count": null,
   "id": "cd2acf83",
   "metadata": {},
   "outputs": [],
   "source": []
  }
 ],
 "metadata": {
  "kernelspec": {
   "display_name": "Python 3",
   "language": "python",
   "name": "python3"
  },
  "language_info": {
   "codemirror_mode": {
    "name": "ipython",
    "version": 3
   },
   "file_extension": ".py",
   "mimetype": "text/x-python",
   "name": "python",
   "nbconvert_exporter": "python",
   "pygments_lexer": "ipython3",
   "version": "3.13.7"
  }
 },
 "nbformat": 4,
 "nbformat_minor": 5
}
