{
 "cells": [
  {
   "cell_type": "markdown",
   "id": "1479643a",
   "metadata": {},
   "source": [
    "C. Even, Odd, Positive and Negative\n",
    "Given N numbers. Count how many of these values are even, odd, positive and negative.\n",
    "\n",
    "Input\n",
    "First line contains one number N (1 ≤ N ≤ 103) number of values.\n",
    "\n",
    "Second line contains N numbers (-105 ≤ Xi ≤ 105).\n",
    "\n",
    "Output\n",
    "Print four lines with the following format:\n",
    "\n",
    "First Line: \"Even: X\", where X is the number of even numbers in the given input.\n",
    "\n",
    "Second Line: \"Odd: X\", where X is the number of odd numbers in the given input.\n",
    "\n",
    "Third Line: \"Positive: X\", where X is the number of positive numbers in the given input.\n",
    "\n",
    "Fourth Line: \"Negative: X\", where X is the number of negative numbers in the given input.\n",
    "\n",
    "Example\n",
    "InputCopy\n",
    "5\n",
    "-5 0 -3 -4 12\n",
    "OutputCopy\n",
    "Even: 3\n",
    "Odd: 2\n",
    "Positive: 1\n",
    "Negative: 3\n",
    "Note\n",
    "First Example :\n",
    "\n",
    "Even Numbers are : 0, -4 , 12\n",
    "\n",
    "Odd Numbers are : -5 , -3\n",
    "\n",
    "Positive Numbers are : 12\n",
    "\n",
    "Negative Numbers are : -5 , -3 , -4\n",
    "\n",
    "\n"
   ]
  },
  {
   "cell_type": "code",
   "execution_count": 21,
   "id": "5eb1f352",
   "metadata": {},
   "outputs": [
    {
     "name": "stdout",
     "output_type": "stream",
     "text": [
      "Even: 3\n",
      "odd: 2\n",
      "positive: 4\n",
      "Negative: 0\n"
     ]
    }
   ],
   "source": [
    "n = int(input()) \n",
    "inp = input()\n",
    "numbers = inp.split()\n",
    "\n",
    "positive = 0; negative =0; even =0; odd =0\n",
    "\n",
    "for i in range(n):\n",
    "   x = int(numbers[i])\n",
    "\n",
    "\n",
    "   # positive or negative\n",
    "   if x > 0 :\n",
    "      positive+=1\n",
    "   elif x < 0 :\n",
    "      negative += 1\n",
    "   # odd or even\n",
    "   if x % 2 !=0 :\n",
    "      odd+=1\n",
    "   else:\n",
    "      even+=1\n",
    "\n",
    "print(\"Even:\", even)\n",
    "print(\"odd:\", odd)\n",
    "print(\"positive:\",positive)\n",
    "print(\"Negative:\",negative)\n"
   ]
  },
  {
   "cell_type": "code",
   "execution_count": null,
   "id": "877e59c0",
   "metadata": {},
   "outputs": [],
   "source": []
  }
 ],
 "metadata": {
  "kernelspec": {
   "display_name": "Python 3",
   "language": "python",
   "name": "python3"
  },
  "language_info": {
   "codemirror_mode": {
    "name": "ipython",
    "version": 3
   },
   "file_extension": ".py",
   "mimetype": "text/x-python",
   "name": "python",
   "nbconvert_exporter": "python",
   "pygments_lexer": "ipython3",
   "version": "3.13.7"
  }
 },
 "nbformat": 4,
 "nbformat_minor": 5
}
