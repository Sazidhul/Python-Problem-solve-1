{
 "cells": [
  {
   "cell_type": "markdown",
   "id": "98e41201",
   "metadata": {},
   "source": [
    "### Functions"
   ]
  },
  {
   "cell_type": "code",
   "execution_count": 5,
   "id": "8f4d71fb",
   "metadata": {},
   "outputs": [
    {
     "name": "stdout",
     "output_type": "stream",
     "text": [
      "hello\n"
     ]
    }
   ],
   "source": [
    "def greet():\n",
    "   print(\"hello\")\n",
    "greet()"
   ]
  },
  {
   "cell_type": "code",
   "execution_count": 8,
   "id": "464a29ab",
   "metadata": {},
   "outputs": [
    {
     "name": "stdout",
     "output_type": "stream",
     "text": [
      "10 20 30\n",
      "540\n",
      "30 10 20\n",
      "1030\n"
     ]
    }
   ],
   "source": [
    "def square_addition(a,b,c):\n",
    "   print(f\"{a} {b} {c}\")\n",
    "   a = a**2\n",
    "   b = b**2\n",
    "   return a+b+c\n",
    "#positional argument \n",
    "ans = square_addition(10, 20, 30) +10\n",
    "print(ans)\n",
    "\n",
    "#keyword argument\n",
    "ans = square_addition(b=10, c=20, a=30) +10\n",
    "print(ans)\n",
    "\n"
   ]
  },
  {
   "cell_type": "code",
   "execution_count": 9,
   "id": "a4360b3c",
   "metadata": {},
   "outputs": [
    {
     "name": "stdout",
     "output_type": "stream",
     "text": [
      "5500\n"
     ]
    }
   ],
   "source": [
    "def square_addition(*args):\n",
    "   summation = 0\n",
    "   for i in args:\n",
    "      i = i**2\n",
    "      summation+= i\n",
    "   return summation\n",
    "ans = square_addition(10,20,30,40,50)\n",
    "print(ans)"
   ]
  },
  {
   "cell_type": "markdown",
   "id": "df4ab723",
   "metadata": {},
   "source": [
    "### keyword length"
   ]
  },
  {
   "cell_type": "code",
   "execution_count": 12,
   "id": "040d605f",
   "metadata": {},
   "outputs": [
    {
     "name": "stdout",
     "output_type": "stream",
     "text": [
      "name: adil\n",
      "cls: 10\n",
      "roll: 30\n",
      "marks: 30.5\n"
     ]
    }
   ],
   "source": [
    "def student(**kwargs):\n",
    "   for key,val in kwargs.items():\n",
    "      print(f\"{key}: {val}\")\n",
    "student(name = \"adil\", cls = 10, roll=30, marks = 30.5)"
   ]
  },
  {
   "cell_type": "code",
   "execution_count": 15,
   "id": "c6ded562",
   "metadata": {},
   "outputs": [
    {
     "name": "stdout",
     "output_type": "stream",
     "text": [
      "<class 'tuple'>\n",
      "{10, 20, 30}\n",
      "[100, 200, 300]\n"
     ]
    }
   ],
   "source": [
    "def give_prediction():\n",
    "\n",
    "   a = {10,20,30}\n",
    "   b = [100, 200, 300]\n",
    "   return a,b \n",
    "x = give_prediction()\n",
    "print(type(x))\n",
    "\n",
    "for item in x:\n",
    "   print(item)"
   ]
  },
  {
   "cell_type": "code",
   "execution_count": 19,
   "id": "d9fadb00",
   "metadata": {},
   "outputs": [
    {
     "name": "stdout",
     "output_type": "stream",
     "text": [
      "<class 'dict'>\n",
      "{'name': 'adil', 'addr': 'Ctg'}\n",
      "dict_items([('name', 'adil'), ('addr', 'Ctg')])\n"
     ]
    }
   ],
   "source": [
    "## dictionary hesabe jode pate chai \n",
    "def give_prediction():\n",
    "   return {\"name\": \"adil\", \"addr\":\"Ctg\" }, {\"name\": \"adil\", \"addr\":\"Ctg\" }\n",
    "\n",
    "x, y = give_prediction()\n",
    "print(type(x))\n",
    "\n",
    "for item in x,y.items():\n",
    "   print(item) "
   ]
  },
  {
   "cell_type": "markdown",
   "id": "cdb4b59d",
   "metadata": {},
   "source": [
    "## Iterator"
   ]
  },
  {
   "cell_type": "code",
   "execution_count": 20,
   "id": "ee781a8d",
   "metadata": {},
   "outputs": [
    {
     "name": "stdout",
     "output_type": "stream",
     "text": [
      "50\n",
      "20\n"
     ]
    }
   ],
   "source": [
    "s = {10, 20, 30, 40, 50}\n",
    "\n",
    "s_iter = iter(s)\n",
    "print(next(s_iter))\n",
    "print(next(s_iter))"
   ]
  },
  {
   "cell_type": "markdown",
   "id": "1f093198",
   "metadata": {},
   "source": [
    "# Generator"
   ]
  },
  {
   "cell_type": "code",
   "execution_count": 26,
   "id": "a8d64ae8",
   "metadata": {},
   "outputs": [
    {
     "name": "stdout",
     "output_type": "stream",
     "text": [
      "[0, 1, 2, 3, 4]\n",
      "[5, 6, 7, 8, 9]\n"
     ]
    }
   ],
   "source": [
    "lst = [x for x in range(500)] # dataset\n",
    "def data_loader(chunk_size,lst):\n",
    "   for i in range(0,len(lst),chunk_size):\n",
    "      yield lst[i:i+chunk_size]\n",
    "x = data_loader(5,lst)\n",
    "print(next(x))\n",
    "print(next(x))"
   ]
  },
  {
   "cell_type": "code",
   "execution_count": null,
   "id": "861315d0",
   "metadata": {},
   "outputs": [],
   "source": []
  }
 ],
 "metadata": {
  "kernelspec": {
   "display_name": "Python 3",
   "language": "python",
   "name": "python3"
  },
  "language_info": {
   "codemirror_mode": {
    "name": "ipython",
    "version": 3
   },
   "file_extension": ".py",
   "mimetype": "text/x-python",
   "name": "python",
   "nbconvert_exporter": "python",
   "pygments_lexer": "ipython3",
   "version": "3.13.7"
  }
 },
 "nbformat": 4,
 "nbformat_minor": 5
}
