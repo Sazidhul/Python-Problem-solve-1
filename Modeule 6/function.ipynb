{
 "cells": [
  {
   "cell_type": "markdown",
   "id": "98e41201",
   "metadata": {},
   "source": [
    "### Functions"
   ]
  },
  {
   "cell_type": "code",
   "execution_count": 5,
   "id": "8f4d71fb",
   "metadata": {},
   "outputs": [
    {
     "name": "stdout",
     "output_type": "stream",
     "text": [
      "hello\n"
     ]
    }
   ],
   "source": [
    "def greet():\n",
    "   print(\"hello\")\n",
    "greet()"
   ]
  },
  {
   "cell_type": "code",
   "execution_count": 8,
   "id": "464a29ab",
   "metadata": {},
   "outputs": [
    {
     "name": "stdout",
     "output_type": "stream",
     "text": [
      "10 20 30\n",
      "540\n",
      "30 10 20\n",
      "1030\n"
     ]
    }
   ],
   "source": [
    "def square_addition(a,b,c):\n",
    "   print(f\"{a} {b} {c}\")\n",
    "   a = a**2\n",
    "   b = b**2\n",
    "   return a+b+c\n",
    "#positional argument \n",
    "ans = square_addition(10, 20, 30) +10\n",
    "print(ans)\n",
    "\n",
    "#keyword argument\n",
    "ans = square_addition(b=10, c=20, a=30) +10\n",
    "print(ans)\n",
    "\n"
   ]
  },
  {
   "cell_type": "code",
   "execution_count": 9,
   "id": "a4360b3c",
   "metadata": {},
   "outputs": [
    {
     "name": "stdout",
     "output_type": "stream",
     "text": [
      "5500\n"
     ]
    }
   ],
   "source": [
    "def square_addition(*args):\n",
    "   summation = 0\n",
    "   for i in args:\n",
    "      i = i**2\n",
    "      summation+= i\n",
    "   return summation\n",
    "ans = square_addition(10,20,30,40,50)\n",
    "print(ans)"
   ]
  },
  {
   "cell_type": "markdown",
   "id": "df4ab723",
   "metadata": {},
   "source": [
    "### keyword length"
   ]
  },
  {
   "cell_type": "code",
   "execution_count": 12,
   "id": "040d605f",
   "metadata": {},
   "outputs": [
    {
     "name": "stdout",
     "output_type": "stream",
     "text": [
      "name: adil\n",
      "cls: 10\n",
      "roll: 30\n",
      "marks: 30.5\n"
     ]
    }
   ],
   "source": [
    "def student(**kwargs):\n",
    "   for key,val in kwargs.items():\n",
    "      print(f\"{key}: {val}\")\n",
    "student(name = \"adil\", cls = 10, roll=30, marks = 30.5)"
   ]
  },
  {
   "cell_type": "code",
   "execution_count": null,
   "id": "c6ded562",
   "metadata": {},
   "outputs": [],
   "source": []
  }
 ],
 "metadata": {
  "kernelspec": {
   "display_name": "Python 3",
   "language": "python",
   "name": "python3"
  },
  "language_info": {
   "codemirror_mode": {
    "name": "ipython",
    "version": 3
   },
   "file_extension": ".py",
   "mimetype": "text/x-python",
   "name": "python",
   "nbconvert_exporter": "python",
   "pygments_lexer": "ipython3",
   "version": "3.13.7"
  }
 },
 "nbformat": 4,
 "nbformat_minor": 5
}
