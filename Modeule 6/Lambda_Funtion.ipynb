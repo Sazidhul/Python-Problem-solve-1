{
 "cells": [
  {
   "cell_type": "markdown",
   "id": "58e9e875",
   "metadata": {},
   "source": [
    "## Lambda function"
   ]
  },
  {
   "cell_type": "code",
   "execution_count": 1,
   "id": "46095e8e",
   "metadata": {},
   "outputs": [
    {
     "name": "stdout",
     "output_type": "stream",
     "text": [
      "13\n"
     ]
    }
   ],
   "source": [
    "def square_addition(x,y):\n",
    "   return x**2 + y**2\n",
    "\n",
    "sq_add = lambda x,y: x**2 + y**2\n",
    "\n",
    "print(sq_add(2,3))"
   ]
  },
  {
   "cell_type": "code",
   "execution_count": null,
   "id": "e5e7457f",
   "metadata": {},
   "outputs": [
    {
     "name": "stdout",
     "output_type": "stream",
     "text": [
      "True\n"
     ]
    }
   ],
   "source": [
    "## boolean\n",
    "if_even = lambda x : x%2==0\n",
    "print(if_even(10))"
   ]
  },
  {
   "cell_type": "markdown",
   "id": "5d438d93",
   "metadata": {},
   "source": [
    "Map"
   ]
  },
  {
   "cell_type": "code",
   "execution_count": 1,
   "id": "544d2b17",
   "metadata": {},
   "outputs": [
    {
     "name": "stdout",
     "output_type": "stream",
     "text": [
      "[1, 4, 9, 16, 25, 36]\n"
     ]
    }
   ],
   "source": [
    "lst = [1, 2, 3, 4, 5, 6]\n",
    "\n",
    "def square(x):\n",
    "   return x**2\n",
    "\n",
    "lst = list(map(square, lst))\n",
    "\n",
    "print(lst)"
   ]
  },
  {
   "cell_type": "code",
   "execution_count": 3,
   "id": "ef88d481",
   "metadata": {},
   "outputs": [
    {
     "name": "stdout",
     "output_type": "stream",
     "text": [
      "['H', 'E', 'L', 'L', 'O', ' ', 'W', 'O', 'R', 'L', 'D', ',', ' ', 'W', 'E', 'L', 'C', 'O', 'M', 'E', ' ', 'T', 'O', ' ', 'T', 'H', 'E', ' ', 'A', 'G', 'E', ' ', 'O', 'F', ' ', 'A', 'I']\n",
      "H E L L O   W O R L D ,   W E L C O M E   T O   T H E   A G E   O F   A I\n"
     ]
    }
   ],
   "source": [
    "## string\n",
    "\n",
    "string = \"hello world, welcome to the age of AI\"\n",
    "string1 = list(map(str.upper, string))\n",
    "print(string1)\n",
    "\n",
    "string1 = \" \".join(string1)\n",
    "print(string1)"
   ]
  },
  {
   "cell_type": "code",
   "execution_count": 4,
   "id": "00f5e4d4",
   "metadata": {},
   "outputs": [
    {
     "name": "stdout",
     "output_type": "stream",
     "text": [
      "[1, 4, 3, 16, 5, 36]\n"
     ]
    }
   ],
   "source": [
    "# map with Lambda function\n",
    "lst = [1, 2, 3, 4, 5, 6]\n",
    "lst = list(map(lambda x: x**2 if x%2==0 else x , lst))\n",
    "print(lst)"
   ]
  },
  {
   "cell_type": "markdown",
   "id": "92ccd742",
   "metadata": {},
   "source": [
    "Filter"
   ]
  },
  {
   "cell_type": "code",
   "execution_count": 6,
   "id": "b22b04e2",
   "metadata": {},
   "outputs": [
    {
     "name": "stdout",
     "output_type": "stream",
     "text": [
      "[51, 52, 53, 54, 55, 56, 57, 58, 59, 60, 61, 62, 63, 64, 65, 66, 67, 68, 69, 70, 71, 72, 73, 74, 75, 76, 77, 78, 79, 80, 81, 82, 83, 84, 85, 86, 87, 88, 89, 90, 91, 92, 93, 94, 95, 96, 97, 98, 99]\n"
     ]
    }
   ],
   "source": [
    "numbers = [x for x in range(100)]\n",
    "# print(numbers)\n",
    "\n",
    "# even\n",
    "even = list(filter(lambda x : x % 2 ==0, numbers))\n",
    "# print(even)\n",
    "\n",
    "# making a list that fifty_upper\n",
    "fifty_upper = list(filter(lambda x: x>50, numbers))\n",
    "print(fifty_upper)\n"
   ]
  },
  {
   "cell_type": "code",
   "execution_count": 7,
   "id": "a246d51b",
   "metadata": {},
   "outputs": [
    {
     "name": "stdout",
     "output_type": "stream",
     "text": [
      "[1, 'Hello', [1, 2], True]\n"
     ]
    }
   ],
   "source": [
    "data = [0, 1, '',None, 'Hello', [], [1, 2], None, True, False, None]\n",
    "cleaned_data = list(filter(None, data))\n",
    "print(cleaned_data)"
   ]
  },
  {
   "cell_type": "code",
   "execution_count": 11,
   "id": "07397e8e",
   "metadata": {},
   "outputs": [
    {
     "ename": "NameError",
     "evalue": "name 'string1' is not defined",
     "output_type": "error",
     "traceback": [
      "\u001b[31m---------------------------------------------------------------------------\u001b[39m",
      "\u001b[31mNameError\u001b[39m                                 Traceback (most recent call last)",
      "\u001b[36mCell\u001b[39m\u001b[36m \u001b[39m\u001b[32mIn[11]\u001b[39m\u001b[32m, line 1\u001b[39m\n\u001b[32m----> \u001b[39m\u001b[32m1\u001b[39m \u001b[38;5;28mprint\u001b[39m(\u001b[43mstring1\u001b[49m)\n",
      "\u001b[31mNameError\u001b[39m: name 'string1' is not defined"
     ]
    }
   ],
   "source": [
    "print(string1)\n"
   ]
  },
  {
   "cell_type": "code",
   "execution_count": 18,
   "id": "baf7bbd3",
   "metadata": {},
   "outputs": [
    {
     "name": "stdout",
     "output_type": "stream",
     "text": [
      "H E L L O   W O R L D ,   W E L C O M E   T O   T H E   A G E   O F   A I\n",
      "['E', 'O', 'O', 'E', 'O', 'E', 'O', 'E', 'A', 'E', 'O', 'A', 'I']\n",
      "E-O-O-E-O-E-O-E-A-E-O-A-I\n"
     ]
    }
   ],
   "source": [
    "## string\n",
    "\n",
    "string = \"hello world, welcome to the age of AI\"\n",
    "string1 = list(map(str.upper, string))\n",
    "\n",
    "string1 = \" \".join(string1)\n",
    "print(string1)\n",
    "\n",
    "vowel = list(filter(lambda x : x in \"AEIOU\" , string1))\n",
    "print(vowel)\n",
    "vowel_join= \"-\".join(vowel)\n",
    "print(vowel_join)\n"
   ]
  },
  {
   "cell_type": "code",
   "execution_count": 19,
   "id": "d75021e6",
   "metadata": {},
   "outputs": [
    {
     "name": "stdout",
     "output_type": "stream",
     "text": [
      "['aaa', 'cccc', 'ddddd']\n"
     ]
    }
   ],
   "source": [
    "fruits = ['aaa', 'bb', 'cccc', 'ddddd']\n",
    "\n",
    "filtering = list(filter(lambda x: len(x)>2, fruits))\n",
    "print(filtering)"
   ]
  },
  {
   "cell_type": "code",
   "execution_count": 1,
   "id": "b2fb9a8c",
   "metadata": {},
   "outputs": [
    {
     "name": "stdout",
     "output_type": "stream",
     "text": [
      "21\n"
     ]
    }
   ],
   "source": [
    "from functools import reduce\n",
    "lst = [1, 2, 3, 4, 5, 6]\n",
    "summation = reduce(lambda x,y : x+y, lst)\n",
    "print(summation)"
   ]
  },
  {
   "cell_type": "code",
   "execution_count": 2,
   "id": "81511be7",
   "metadata": {},
   "outputs": [
    {
     "name": "stdout",
     "output_type": "stream",
     "text": [
      "6\n"
     ]
    }
   ],
   "source": [
    "lst = [1, 2, 3, 4, 5, 6]\n",
    "max_value = reduce(lambda x, y : x if x >y else y, lst)\n",
    "print(max_value)"
   ]
  },
  {
   "cell_type": "code",
   "execution_count": null,
   "id": "dd87aa37",
   "metadata": {},
   "outputs": [
    {
     "name": "stdout",
     "output_type": "stream",
     "text": [
      "['hello', 'world', 'welcome', 'to', 'programming']\n",
      "hello world welcome to programming\n"
     ]
    }
   ],
   "source": [
    "lst = [\"hello\", \"world\", \"welcome\", \"to\", \"programming\"]\n",
    "print(lst)\n"
   ]
  },
  {
   "cell_type": "code",
   "execution_count": 5,
   "id": "9aa07966",
   "metadata": {},
   "outputs": [
    {
     "name": "stdout",
     "output_type": "stream",
     "text": [
      "hello world welcome to programming\n"
     ]
    }
   ],
   "source": [
    "string = reduce(lambda x,y : x + \" \" + y, lst)\n",
    "print(string)"
   ]
  },
  {
   "cell_type": "code",
   "execution_count": null,
   "id": "c043f8f5",
   "metadata": {},
   "outputs": [],
   "source": []
  }
 ],
 "metadata": {
  "kernelspec": {
   "display_name": "Python 3",
   "language": "python",
   "name": "python3"
  },
  "language_info": {
   "codemirror_mode": {
    "name": "ipython",
    "version": 3
   },
   "file_extension": ".py",
   "mimetype": "text/x-python",
   "name": "python",
   "nbconvert_exporter": "python",
   "pygments_lexer": "ipython3",
   "version": "3.13.7"
  }
 },
 "nbformat": 4,
 "nbformat_minor": 5
}
