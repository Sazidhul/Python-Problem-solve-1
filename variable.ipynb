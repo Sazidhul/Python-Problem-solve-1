{
 "cells": [
  {
   "cell_type": "code",
   "execution_count": 15,
   "id": "ab2b34e4",
   "metadata": {},
   "outputs": [
    {
     "name": "stdout",
     "output_type": "stream",
     "text": [
      "phithon\n"
     ]
    }
   ],
   "source": [
    "name = \"phithon\"\n",
    "\n",
    "print(name)"
   ]
  },
  {
   "cell_type": "code",
   "execution_count": 16,
   "id": "d30cd91e",
   "metadata": {},
   "outputs": [
    {
     "name": "stdout",
     "output_type": "stream",
     "text": [
      "45623498\n"
     ]
    }
   ],
   "source": [
    "phone_number = 45623498\n",
    "\n",
    "print(phone_number)"
   ]
  },
  {
   "cell_type": "code",
   "execution_count": 17,
   "id": "cfadbd1a",
   "metadata": {},
   "outputs": [
    {
     "name": "stdout",
     "output_type": "stream",
     "text": [
      "<class 'int'> <class 'float'> <class 'str'> <class 'bool'>\n"
     ]
    }
   ],
   "source": [
    "age = 20 \n",
    "height = 5.6\n",
    "name = \"Akash\"\n",
    "is_passed = True\n",
    "\n",
    "print(type(age), type(height), type(name), type(is_passed))"
   ]
  },
  {
   "cell_type": "code",
   "execution_count": 18,
   "id": "073a5ae5",
   "metadata": {},
   "outputs": [
    {
     "name": "stdout",
     "output_type": "stream",
     "text": [
      "24\n"
     ]
    }
   ],
   "source": [
    "name = input(\"What is your name?\")\n",
    "print(name)"
   ]
  },
  {
   "cell_type": "code",
   "execution_count": 20,
   "id": "0cc752c8",
   "metadata": {},
   "outputs": [
    {
     "name": "stdout",
     "output_type": "stream",
     "text": [
      "20 <class 'int'>\n"
     ]
    }
   ],
   "source": [
    "age = input(\"Age?\") # string hishebe input nise\n",
    "\n",
    "age = int(age) # string k amar int  a con\n",
    "\n",
    "print( age, type(age))"
   ]
  },
  {
   "cell_type": "code",
   "execution_count": 21,
   "id": "79ea2f4c",
   "metadata": {},
   "outputs": [
    {
     "name": "stdout",
     "output_type": "stream",
     "text": [
      "20.6 <class 'float'>\n",
      "20.8\n"
     ]
    }
   ],
   "source": [
    "height = float(input(\"Height ?\")) # string\n",
    "\n",
    "print(height, type(height))\n",
    "\n",
    "height = height + 0.2\n",
    "\n",
    "print(height)"
   ]
  },
  {
   "cell_type": "code",
   "execution_count": 22,
   "id": "6094bb5a",
   "metadata": {},
   "outputs": [
    {
     "name": "stdout",
     "output_type": "stream",
     "text": [
      "13 7 30 3.33 1\n"
     ]
    }
   ],
   "source": [
    "x = 10 ; y = 3\n",
    "\n",
    "sum = x + y # summation\n",
    "sub = x - y # subtraction\n",
    "mult = x * y # multiplication\n",
    "\n",
    "div = round(x/y , 2) # division\n",
    "\n",
    "rem = x % y # remainder\n",
    "\n",
    "print(sum, sub, mult, div, rem)"
   ]
  },
  {
   "cell_type": "code",
   "execution_count": 26,
   "id": "0178e11e",
   "metadata": {},
   "outputs": [
    {
     "name": "stdout",
     "output_type": "stream",
     "text": [
      "True True\n",
      "False True\n",
      "False\n",
      "True\n"
     ]
    }
   ],
   "source": [
    "x = 10 ; y = 3\n",
    "\n",
    "greater_than = x > y\n",
    "\n",
    "greater_than_equal = (10 >= 10)\n",
    "\n",
    "print(greater_than , greater_than_equal)\n",
    "\n",
    "less_than = x < y\n",
    "\n",
    "less_than_equal = (10 <= 10)\n",
    "\n",
    "print(less_than , less_than_equal)\n",
    "\n",
    "equal = x==y\n",
    "\n",
    "print(equal)\n",
    "\n",
    "not_equal = x != y\n",
    "print(not_equal)"
   ]
  }
 ],
 "metadata": {
  "kernelspec": {
   "display_name": "Python 3",
   "language": "python",
   "name": "python3"
  },
  "language_info": {
   "codemirror_mode": {
    "name": "ipython",
    "version": 3
   },
   "file_extension": ".py",
   "mimetype": "text/x-python",
   "name": "python",
   "nbconvert_exporter": "python",
   "pygments_lexer": "ipython3",
   "version": "3.13.7"
  }
 },
 "nbformat": 4,
 "nbformat_minor": 5
}
