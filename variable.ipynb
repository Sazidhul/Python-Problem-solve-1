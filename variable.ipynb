{
 "cells": [
  {
   "cell_type": "code",
   "execution_count": 15,
   "id": "ab2b34e4",
   "metadata": {},
   "outputs": [
    {
     "name": "stdout",
     "output_type": "stream",
     "text": [
      "phithon\n"
     ]
    }
   ],
   "source": [
    "name = \"phithon\"\n",
    "\n",
    "print(name)"
   ]
  },
  {
   "cell_type": "code",
   "execution_count": 16,
   "id": "d30cd91e",
   "metadata": {},
   "outputs": [
    {
     "name": "stdout",
     "output_type": "stream",
     "text": [
      "45623498\n"
     ]
    }
   ],
   "source": [
    "phone_number = 45623498\n",
    "\n",
    "print(phone_number)"
   ]
  },
  {
   "cell_type": "code",
   "execution_count": 17,
   "id": "cfadbd1a",
   "metadata": {},
   "outputs": [
    {
     "name": "stdout",
     "output_type": "stream",
     "text": [
      "<class 'int'> <class 'float'> <class 'str'> <class 'bool'>\n"
     ]
    }
   ],
   "source": [
    "age = 20 \n",
    "height = 5.6\n",
    "name = \"Akash\"\n",
    "is_passed = True\n",
    "\n",
    "print(type(age), type(height), type(name), type(is_passed))"
   ]
  },
  {
   "cell_type": "code",
   "execution_count": 18,
   "id": "073a5ae5",
   "metadata": {},
   "outputs": [
    {
     "name": "stdout",
     "output_type": "stream",
     "text": [
      "24\n"
     ]
    }
   ],
   "source": [
    "name = input(\"What is your name?\")\n",
    "print(name)"
   ]
  },
  {
   "cell_type": "code",
   "execution_count": 20,
   "id": "0cc752c8",
   "metadata": {},
   "outputs": [
    {
     "name": "stdout",
     "output_type": "stream",
     "text": [
      "20 <class 'int'>\n"
     ]
    }
   ],
   "source": [
    "age = input(\"Age?\") # string hishebe input nise\n",
    "\n",
    "age = int(age) # string k amar int  a con\n",
    "\n",
    "print( age, type(age))"
   ]
  },
  {
   "cell_type": "code",
   "execution_count": 21,
   "id": "79ea2f4c",
   "metadata": {},
   "outputs": [
    {
     "name": "stdout",
     "output_type": "stream",
     "text": [
      "20.6 <class 'float'>\n",
      "20.8\n"
     ]
    }
   ],
   "source": [
    "height = float(input(\"Height ?\")) # string\n",
    "\n",
    "print(height, type(height))\n",
    "\n",
    "height = height + 0.2\n",
    "\n",
    "print(height)"
   ]
  },
  {
   "cell_type": "code",
   "execution_count": 22,
   "id": "6094bb5a",
   "metadata": {},
   "outputs": [
    {
     "name": "stdout",
     "output_type": "stream",
     "text": [
      "13 7 30 3.33 1\n"
     ]
    }
   ],
   "source": [
    "x = 10 ; y = 3\n",
    "\n",
    "sum = x + y # summation\n",
    "sub = x - y # subtraction\n",
    "mult = x * y # multiplication\n",
    "\n",
    "div = round(x/y , 2) # division\n",
    "\n",
    "rem = x % y # remainder\n",
    "\n",
    "print(sum, sub, mult, div, rem)"
   ]
  },
  {
   "cell_type": "code",
   "execution_count": 26,
   "id": "0178e11e",
   "metadata": {},
   "outputs": [
    {
     "name": "stdout",
     "output_type": "stream",
     "text": [
      "True True\n",
      "False True\n",
      "False\n",
      "True\n"
     ]
    }
   ],
   "source": [
    "x = 10 ; y = 3\n",
    "\n",
    "greater_than = x > y\n",
    "\n",
    "greater_than_equal = (10 >= 10)\n",
    "\n",
    "print(greater_than , greater_than_equal)\n",
    "\n",
    "less_than = x < y\n",
    "\n",
    "less_than_equal = (10 <= 10)\n",
    "\n",
    "print(less_than , less_than_equal)\n",
    "\n",
    "equal = x==y\n",
    "\n",
    "print(equal)\n",
    "\n",
    "not_equal = x != y\n",
    "print(not_equal)"
   ]
  },
  {
   "cell_type": "code",
   "execution_count": 27,
   "id": "aaf4ed82",
   "metadata": {},
   "outputs": [
    {
     "name": "stdout",
     "output_type": "stream",
     "text": [
      "False\n"
     ]
    }
   ],
   "source": [
    "x = 10 ; y = 5 ; z = 15\n",
    "\n",
    "result = (x > y) and (x > z)\n",
    "\n",
    "print(result)"
   ]
  },
  {
   "cell_type": "code",
   "execution_count": 28,
   "id": "52b59bb8",
   "metadata": {},
   "outputs": [
    {
     "name": "stdout",
     "output_type": "stream",
     "text": [
      "True\n"
     ]
    }
   ],
   "source": [
    "x = 10 ; y = 5 ; z = 15\n",
    "\n",
    "result = (x > y) or (x > z)\n",
    "\n",
    "print(result)"
   ]
  },
  {
   "cell_type": "markdown",
   "id": "acbc7654",
   "metadata": {},
   "source": [
    "Precedence and Associativity\n",
    "\n"
   ]
  },
  {
   "cell_type": "code",
   "execution_count": 29,
   "id": "5d672299",
   "metadata": {},
   "outputs": [
    {
     "data": {
      "text/plain": [
       "0.0"
      ]
     },
     "execution_count": 29,
     "metadata": {},
     "output_type": "execute_result"
    }
   ],
   "source": [
    "eq = (10 + 10)/2 - 5*2\n",
    "eq"
   ]
  },
  {
   "cell_type": "code",
   "execution_count": 30,
   "id": "9b3ecdae",
   "metadata": {},
   "outputs": [
    {
     "name": "stdout",
     "output_type": "stream",
     "text": [
      "<class 'int'> <class 'str'>\n"
     ]
    }
   ],
   "source": [
    "x = 5 \n",
    "y = \"5\"\n",
    "print(type(x), type(y))"
   ]
  },
  {
   "cell_type": "code",
   "execution_count": 31,
   "id": "4e9f00ff",
   "metadata": {},
   "outputs": [
    {
     "name": "stdout",
     "output_type": "stream",
     "text": [
      "3\n"
     ]
    }
   ],
   "source": [
    "print(7//2)"
   ]
  },
  {
   "cell_type": "code",
   "execution_count": 32,
   "id": "ddb9abcc",
   "metadata": {},
   "outputs": [
    {
     "name": "stdout",
     "output_type": "stream",
     "text": [
      "3.5\n"
     ]
    }
   ],
   "source": [
    "print(7/2)"
   ]
  },
  {
   "cell_type": "code",
   "execution_count": null,
   "id": "8a36abc9",
   "metadata": {},
   "outputs": [
    {
     "name": "stdout",
     "output_type": "stream",
     "text": [
      "<class 'float'>\n"
     ]
    }
   ],
   "source": [
    "num = float(input())\n",
    "\n",
    "print(type(num))     \n"
   ]
  },
  {
   "cell_type": "code",
   "execution_count": 1,
   "id": "f357b352",
   "metadata": {},
   "outputs": [
    {
     "name": "stdout",
     "output_type": "stream",
     "text": [
      "0  zero\n",
      "1  odd\n",
      "2  even\n",
      "3  odd\n",
      "4  even\n"
     ]
    }
   ],
   "source": [
    "# --- DEMO: Control Flow --- \n",
    "for i in range(5):\n",
    "   if i == 0:\n",
    "      label = \"zero\"\n",
    "   elif i % 2 == 0:\n",
    "      label = \"even\"\n",
    "   else:\n",
    "      label = \"odd\"\n",
    "   print(i, \"\", label)"
   ]
  },
  {
   "cell_type": "markdown",
   "id": "32a8eb78",
   "metadata": {},
   "source": [
    "F.Digits Summation"
   ]
  },
  {
   "cell_type": "code",
   "execution_count": null,
   "id": "0c17f665",
   "metadata": {},
   "outputs": [
    {
     "name": "stdout",
     "output_type": "stream",
     "text": [
      "5\n"
     ]
    }
   ],
   "source": [
    "# \n",
    "inp = input()\n",
    "\n",
    "numbers = inp.split()\n",
    "\n",
    "x = int(numbers[0])  # index[0]\n",
    "\n",
    "y = int(numbers[1])  # index[1]\n",
    "\n",
    "last_digit_of_x = x % 10\n",
    "last_digit_of_y = y % 10\n",
    "\n",
    "sum = last_digit_of_x + last_digit_of_y\n",
    "\n",
    "print(sum)"
   ]
  },
  {
   "cell_type": "code",
   "execution_count": 3,
   "id": "0c004719",
   "metadata": {},
   "outputs": [
    {
     "name": "stdout",
     "output_type": "stream",
     "text": [
      "Go without a rain coat \n",
      "This is a sunny day\n"
     ]
    }
   ],
   "source": [
    "raining = False\n",
    "Muddy = True\n",
    "\n",
    "if raining == True:\n",
    "   print(\"Rain coat is necessary\")\n",
    "   if Muddy == True:\n",
    "      print(\"Sandal is necessary\")\n",
    "   else:\n",
    "      print(\"Bring Sneakers\")\n",
    "else:\n",
    "   print(\"Go without a rain coat \")\n",
    "   print(\"This is a sunny day\")"
   ]
  },
  {
   "cell_type": "code",
   "execution_count": 4,
   "id": "2f7c52fc",
   "metadata": {},
   "outputs": [
    {
     "name": "stdout",
     "output_type": "stream",
     "text": [
      "Food court e jabo\n"
     ]
    }
   ],
   "source": [
    "taka = int(input())\n",
    "\n",
    "if taka > 500:\n",
    "   print(\"ghurte jabo\")\n",
    "elif taka > 400:\n",
    "   print(\"Bashai order korbo\")\n",
    "elif taka > 300:\n",
    "   print(\"Food court e jabo\")\n",
    "else:\n",
    "   print(\"Taka ta save korbo\")"
   ]
  },
  {
   "cell_type": "code",
   "execution_count": 5,
   "id": "0f0f2e7a",
   "metadata": {},
   "outputs": [
    {
     "name": "stdout",
     "output_type": "stream",
     "text": [
      "ghurte Jabo\n"
     ]
    }
   ],
   "source": [
    "taka = 1000\n",
    "raining = False\n",
    "\n",
    "## 500 er behi and jodi brishti na hoi \n",
    "\n",
    "if (taka > 500) and (raining == False):\n",
    "   print(\"ghurte Jabo\")\n",
    "else:\n",
    "   print(\"Taka ta save korbo\")"
   ]
  },
  {
   "cell_type": "code",
   "execution_count": 6,
   "id": "8d664b3e",
   "metadata": {},
   "outputs": [
    {
     "name": "stdout",
     "output_type": "stream",
     "text": [
      "1 Hello World\n",
      "3 Hello World\n",
      "5 Hello World\n",
      "7 Hello World\n",
      "9 Hello World\n"
     ]
    }
   ],
   "source": [
    "for i in range(1, 11, 2):\n",
    "   print(i, \"Hello World\")"
   ]
  },
  {
   "cell_type": "code",
   "execution_count": 8,
   "id": "cdd2dc6b",
   "metadata": {},
   "outputs": [
    {
     "name": "stdout",
     "output_type": "stream",
     "text": [
      "1 1\n",
      "1 2\n",
      "1 3\n",
      "1 4\n",
      "2 1\n",
      "2 2\n",
      "2 3\n",
      "2 4\n",
      "3 1\n",
      "3 2\n",
      "3 3\n",
      "3 4\n",
      "4 1\n",
      "4 2\n",
      "4 3\n",
      "4 4\n",
      "5 1\n",
      "5 2\n",
      "5 3\n",
      "5 4\n",
      "6 1\n",
      "6 2\n",
      "6 3\n",
      "6 4\n",
      "7 1\n",
      "7 2\n",
      "7 3\n",
      "7 4\n",
      "8 1\n",
      "8 2\n",
      "8 3\n",
      "8 4\n",
      "9 1\n",
      "9 2\n",
      "9 3\n",
      "9 4\n"
     ]
    }
   ],
   "source": [
    "# nested for for loop \n",
    "for i in range(1, 10):\n",
    "   for j in range(1, 5):\n",
    "      print(i,j)"
   ]
  },
  {
   "cell_type": "code",
   "execution_count": 13,
   "id": "965b12cc",
   "metadata": {},
   "outputs": [
    {
     "name": "stdout",
     "output_type": "stream",
     "text": [
      "3 hellow world\n",
      "4 hellow world\n",
      "5 hellow world\n",
      "6 hellow world\n",
      "7 hellow world\n",
      "8 hellow world\n",
      "9 hellow world\n",
      "10\n"
     ]
    }
   ],
   "source": [
    "count = int(input(\"Enter a number\"))\n",
    "\n",
    "while count < 10 :\n",
    "   \n",
    "   print(count, \"hellow world\")\n",
    "   count= count + 1\n",
    "\n",
    "print(count)"
   ]
  }
 ],
 "metadata": {
  "kernelspec": {
   "display_name": "Python 3",
   "language": "python",
   "name": "python3"
  },
  "language_info": {
   "codemirror_mode": {
    "name": "ipython",
    "version": 3
   },
   "file_extension": ".py",
   "mimetype": "text/x-python",
   "name": "python",
   "nbconvert_exporter": "python",
   "pygments_lexer": "ipython3",
   "version": "3.13.7"
  }
 },
 "nbformat": 4,
 "nbformat_minor": 5
}
