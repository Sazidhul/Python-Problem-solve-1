{
 "cells": [
  {
   "cell_type": "markdown",
   "id": "2d323332",
   "metadata": {},
   "source": [
    "### Splitting, Joining, Formatted String"
   ]
  },
  {
   "cell_type": "code",
   "execution_count": 2,
   "id": "08fe68c9",
   "metadata": {},
   "outputs": [
    {
     "name": "stdout",
     "output_type": "stream",
     "text": [
      "['what', 'is', 'Phitorn', '?']\n"
     ]
    }
   ],
   "source": [
    "prompt = \"what is Phitorn ? \"\n",
    "\n",
    "tokens = prompt.split()\n",
    "\n",
    "print(tokens)"
   ]
  },
  {
   "cell_type": "markdown",
   "id": "d569bddc",
   "metadata": {},
   "source": [
    "### Formatted String"
   ]
  },
  {
   "cell_type": "code",
   "execution_count": null,
   "id": "ba17d852",
   "metadata": {},
   "outputs": [
    {
     "name": "stdout",
     "output_type": "stream",
     "text": [
      "<class 'str'>\n"
     ]
    }
   ],
   "source": [
    "name = \"Adil\"\n",
    "age = 23\n",
    "height = 5.1123445\n",
    "\n",
    "print((f\"His name is {name}. He is {age} years old. He is {height:.2} feet tall\"))"
   ]
  },
  {
   "cell_type": "markdown",
   "id": "2bd0b526",
   "metadata": {},
   "source": [
    "### List Method"
   ]
  },
  {
   "cell_type": "code",
   "execution_count": null,
   "id": "56181253",
   "metadata": {},
   "outputs": [],
   "source": [
    "## declaration\n",
    "numbers = [100, 20, 30, 40, 50]"
   ]
  },
  {
   "cell_type": "code",
   "execution_count": 9,
   "id": "19519fe8",
   "metadata": {},
   "outputs": [
    {
     "ename": "NameError",
     "evalue": "name 'numbers' is not defined",
     "output_type": "error",
     "traceback": [
      "\u001b[31m---------------------------------------------------------------------------\u001b[39m",
      "\u001b[31mNameError\u001b[39m                                 Traceback (most recent call last)",
      "\u001b[36mCell\u001b[39m\u001b[36m \u001b[39m\u001b[32mIn[9]\u001b[39m\u001b[32m, line 1\u001b[39m\n\u001b[32m----> \u001b[39m\u001b[32m1\u001b[39m \u001b[38;5;28mprint\u001b[39m(\u001b[43mnumbers\u001b[49m[\u001b[32m2\u001b[39m])\n",
      "\u001b[31mNameError\u001b[39m: name 'numbers' is not defined"
     ]
    }
   ],
   "source": [
    "print(numbers[2])"
   ]
  }
 ],
 "metadata": {
  "kernelspec": {
   "display_name": "Python 3",
   "language": "python",
   "name": "python3"
  },
  "language_info": {
   "codemirror_mode": {
    "name": "ipython",
    "version": 3
   },
   "file_extension": ".py",
   "mimetype": "text/x-python",
   "name": "python",
   "nbconvert_exporter": "python",
   "pygments_lexer": "ipython3",
   "version": "3.13.7"
  }
 },
 "nbformat": 4,
 "nbformat_minor": 5
}
