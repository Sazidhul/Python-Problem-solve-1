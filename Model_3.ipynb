{
 "cells": [
  {
   "cell_type": "markdown",
   "id": "2d323332",
   "metadata": {},
   "source": [
    "### Splitting, Joining, Formatted String"
   ]
  },
  {
   "cell_type": "code",
   "execution_count": 2,
   "id": "08fe68c9",
   "metadata": {},
   "outputs": [
    {
     "name": "stdout",
     "output_type": "stream",
     "text": [
      "['what', 'is', 'Phitorn', '?']\n"
     ]
    }
   ],
   "source": [
    "prompt = \"what is Phitorn ? \"\n",
    "\n",
    "tokens = prompt.split()\n",
    "\n",
    "print(tokens)"
   ]
  },
  {
   "cell_type": "markdown",
   "id": "d569bddc",
   "metadata": {},
   "source": [
    "### Formatted String"
   ]
  },
  {
   "cell_type": "code",
   "execution_count": null,
   "id": "ba17d852",
   "metadata": {},
   "outputs": [
    {
     "name": "stdout",
     "output_type": "stream",
     "text": [
      "<class 'str'>\n"
     ]
    }
   ],
   "source": [
    "name = \"Adil\"\n",
    "age = 23\n",
    "height = 5.1123445\n",
    "\n",
    "print((f\"His name is {name}. He is {age} years old. He is {height:.2} feet tall\"))"
   ]
  },
  {
   "cell_type": "code",
   "execution_count": null,
   "id": "56181253",
   "metadata": {},
   "outputs": [],
   "source": []
  }
 ],
 "metadata": {
  "kernelspec": {
   "display_name": "Python 3",
   "language": "python",
   "name": "python3"
  },
  "language_info": {
   "codemirror_mode": {
    "name": "ipython",
    "version": 3
   },
   "file_extension": ".py",
   "mimetype": "text/x-python",
   "name": "python",
   "nbconvert_exporter": "python",
   "pygments_lexer": "ipython3",
   "version": "3.13.7"
  }
 },
 "nbformat": 4,
 "nbformat_minor": 5
}
