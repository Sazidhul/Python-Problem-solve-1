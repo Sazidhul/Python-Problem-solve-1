{
 "cells": [
  {
   "cell_type": "markdown",
   "id": "6b47c918",
   "metadata": {},
   "source": [
    "### Tuple"
   ]
  },
  {
   "cell_type": "code",
   "execution_count": null,
   "id": "0cd3872a",
   "metadata": {},
   "outputs": [
    {
     "name": "stdout",
     "output_type": "stream",
     "text": [
      "<class 'tuple'> (10, 20, 30, 40)\n",
      "(10, 10.5, 'str', False)\n",
      "<class 'tuple'> (10,)\n",
      "<class 'tuple'> (10,)\n",
      "(10, 20, 30)\n"
     ]
    },
    {
     "ename": "TypeError",
     "evalue": "'list' object is not callable",
     "output_type": "error",
     "traceback": [
      "\u001b[31m---------------------------------------------------------------------------\u001b[39m",
      "\u001b[31mTypeError\u001b[39m                                 Traceback (most recent call last)",
      "\u001b[36mCell\u001b[39m\u001b[36m \u001b[39m\u001b[32mIn[14]\u001b[39m\u001b[32m, line 25\u001b[39m\n\u001b[32m     22\u001b[39m tup1 = \u001b[38;5;28mtuple\u001b[39m(my_list)   \u001b[38;5;66;03m# Convert list → tuple\u001b[39;00m\n\u001b[32m     23\u001b[39m \u001b[38;5;28mprint\u001b[39m(tup1)             \u001b[38;5;66;03m# Output: (10, 20, 30)\u001b[39;00m\n\u001b[32m---> \u001b[39m\u001b[32m25\u001b[39m list1 = \u001b[38;5;28;43mlist\u001b[39;49m\u001b[43m(\u001b[49m\u001b[43mtup1\u001b[49m\u001b[43m)\u001b[49m      \u001b[38;5;66;03m# Convert tuple → list\u001b[39;00m\n\u001b[32m     26\u001b[39m \u001b[38;5;28mprint\u001b[39m(list1)            \u001b[38;5;66;03m# Output: [10, 20, 30]\u001b[39;00m\n\u001b[32m     28\u001b[39m \u001b[38;5;28mprint\u001b[39m(\u001b[38;5;28mtype\u001b[39m(tup1), tup1)\n",
      "\u001b[31mTypeError\u001b[39m: 'list' object is not callable"
     ]
    }
   ],
   "source": [
    "# declaration\n",
    "\n",
    "tup = (10, 20,30, 40)\n",
    "\n",
    "print(type(tup), tup)\n",
    "\n",
    "mixed_tup = (10, 10.5, \"str\", False)\n",
    "\n",
    "print((mixed_tup))\n",
    "\n",
    "# when a single value is (,) must be use\n",
    "tup1 = (10,)\n",
    "\n",
    "print(type(tup1), tup1)\n",
    "#using tuple\n",
    "tup2 = tuple([10])\n",
    "print(type(tup2), tup2)\n",
    "\n"
   ]
  },
  {
   "cell_type": "code",
   "execution_count": 17,
   "id": "fa1574cc",
   "metadata": {},
   "outputs": [
    {
     "name": "stdout",
     "output_type": "stream",
     "text": [
      "(10, 20, 30)\n"
     ]
    },
    {
     "ename": "TypeError",
     "evalue": "'list' object is not callable",
     "output_type": "error",
     "traceback": [
      "\u001b[31m---------------------------------------------------------------------------\u001b[39m",
      "\u001b[31mTypeError\u001b[39m                                 Traceback (most recent call last)",
      "\u001b[36mCell\u001b[39m\u001b[36m \u001b[39m\u001b[32mIn[17]\u001b[39m\u001b[32m, line 7\u001b[39m\n\u001b[32m      4\u001b[39m tup1 = \u001b[38;5;28mtuple\u001b[39m(my_list)   \u001b[38;5;66;03m# Convert list → tuple\u001b[39;00m\n\u001b[32m      5\u001b[39m \u001b[38;5;28mprint\u001b[39m(tup1)             \u001b[38;5;66;03m# (10, 20, 30)\u001b[39;00m\n\u001b[32m----> \u001b[39m\u001b[32m7\u001b[39m list1 = \u001b[38;5;28;43mlist\u001b[39;49m\u001b[43m(\u001b[49m\u001b[43mtup1\u001b[49m\u001b[43m)\u001b[49m      \u001b[38;5;66;03m# Convert tuple → list\u001b[39;00m\n\u001b[32m      8\u001b[39m \u001b[38;5;28mprint\u001b[39m(list1)            \u001b[38;5;66;03m# [10, 20, 30]\u001b[39;00m\n\u001b[32m     10\u001b[39m \u001b[38;5;28mprint\u001b[39m(\u001b[38;5;28mtype\u001b[39m(tup1), tup1)\n",
      "\u001b[31mTypeError\u001b[39m: 'list' object is not callable"
     ]
    }
   ],
   "source": [
    "### Converting list to tuple \n",
    "my_list = [10, 20, 30]\n",
    "\n",
    "tup1 = tuple(my_list)   # Convert list → tuple\n",
    "print(tup1)             # (10, 20, 30)\n",
    "\n",
    "list1 = list(tup1)      # Convert tuple → list\n",
    "print(list1)            # [10, 20, 30]\n",
    "\n",
    "print(type(tup1), tup1)\n"
   ]
  },
  {
   "cell_type": "code",
   "execution_count": 23,
   "id": "b0173e1b",
   "metadata": {},
   "outputs": [
    {
     "name": "stdout",
     "output_type": "stream",
     "text": [
      "10.5\n",
      "(10, 20, 30, 10.5, 'str')\n"
     ]
    }
   ],
   "source": [
    "# Access \n",
    "tup = (10, 20, 30, 10.5, \"str\", False)\n",
    "\n",
    "#index\n",
    "print(tup[3])\n",
    "\n",
    "#slicing\n",
    "new_tup = tup[:-1]\n",
    "print(new_tup)\n"
   ]
  },
  {
   "cell_type": "code",
   "execution_count": 24,
   "id": "675d1e34",
   "metadata": {},
   "outputs": [
    {
     "name": "stdout",
     "output_type": "stream",
     "text": [
      "[10, 100, 30, 40, 60]\n"
     ]
    },
    {
     "ename": "TypeError",
     "evalue": "'tuple' object does not support item assignment",
     "output_type": "error",
     "traceback": [
      "\u001b[31m---------------------------------------------------------------------------\u001b[39m",
      "\u001b[31mTypeError\u001b[39m                                 Traceback (most recent call last)",
      "\u001b[36mCell\u001b[39m\u001b[36m \u001b[39m\u001b[32mIn[24]\u001b[39m\u001b[32m, line 10\u001b[39m\n\u001b[32m      8\u001b[39m \u001b[38;5;66;03m#immutable\u001b[39;00m\n\u001b[32m      9\u001b[39m tup = (\u001b[32m10\u001b[39m, \u001b[32m20\u001b[39m, \u001b[32m30\u001b[39m, \u001b[32m40\u001b[39m)\n\u001b[32m---> \u001b[39m\u001b[32m10\u001b[39m \u001b[43mtup\u001b[49m\u001b[43m[\u001b[49m\u001b[32;43m1\u001b[39;49m\u001b[43m]\u001b[49m = \u001b[32m100\u001b[39m\n\u001b[32m     11\u001b[39m \u001b[38;5;28mprint\u001b[39m(tup) \n",
      "\u001b[31mTypeError\u001b[39m: 'tuple' object does not support item assignment"
     ]
    }
   ],
   "source": [
    "# mutability\n",
    "\n",
    "lst = [10, 20, 30, 40]\n",
    "lst.append(60)\n",
    "lst[1] = 100\n",
    "print(lst)\n",
    "\n",
    "#immutable\n",
    "tup = (10, 20, 30, 40)\n",
    "tup[1] = 100\n",
    "print(tup) "
   ]
  },
  {
   "cell_type": "code",
   "execution_count": null,
   "id": "720db41b",
   "metadata": {},
   "outputs": [],
   "source": []
  }
 ],
 "metadata": {
  "kernelspec": {
   "display_name": "Python 3",
   "language": "python",
   "name": "python3"
  },
  "language_info": {
   "codemirror_mode": {
    "name": "ipython",
    "version": 3
   },
   "file_extension": ".py",
   "mimetype": "text/x-python",
   "name": "python",
   "nbconvert_exporter": "python",
   "pygments_lexer": "ipython3",
   "version": "3.13.7"
  }
 },
 "nbformat": 4,
 "nbformat_minor": 5
}
