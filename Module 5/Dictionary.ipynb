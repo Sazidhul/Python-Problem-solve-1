{
 "cells": [
  {
   "cell_type": "markdown",
   "id": "55d953bd",
   "metadata": {},
   "source": [
    "Dic"
   ]
  },
  {
   "cell_type": "code",
   "execution_count": 9,
   "id": "35d74e72",
   "metadata": {},
   "outputs": [
    {
     "name": "stdout",
     "output_type": "stream",
     "text": [
      "dict_keys(['name', 'age', 'address'])\n",
      "dict_keys(['name', 'age', 'address', 'Sanikingsrs'])\n",
      "{'name': 'Phitron', 'age': 20, 'address': 'Dhaka', 'Sanikingsrs': 36}\n",
      "dict_values(['Phitron', 20, 'Dhaka', 36])\n",
      "dict_items([('name', 'Phitron'), ('age', 20), ('address', 'Dhaka'), ('Sanikingsrs', 36)])\n"
     ]
    }
   ],
   "source": [
    "dic = {\"name\": \"Phitron\" , \"age\": 20, \"address\": \"Dhaka\"}\n",
    "\n",
    "keys = dic.keys()\n",
    "print(keys)\n",
    "\n",
    "dic[\"Sanikingsrs\"] = 36\n",
    "print(keys)\n",
    "\n",
    "print(dic)\n",
    "\n",
    "values = dic.values()\n",
    "\n",
    "print(values)\n",
    "\n",
    "items = dic.items()\n",
    "\n",
    "print(items)"
   ]
  },
  {
   "cell_type": "markdown",
   "id": "4b857b49",
   "metadata": {},
   "source": [
    "# Dictionary Comprehension"
   ]
  },
  {
   "cell_type": "code",
   "execution_count": 10,
   "id": "fa9b5f79",
   "metadata": {},
   "outputs": [
    {
     "name": "stdout",
     "output_type": "stream",
     "text": [
      "{0: 0, 1: 1, 2: 4, 3: 9, 4: 16, 5: 25, 6: 36, 7: 49, 8: 64, 9: 81}\n"
     ]
    }
   ],
   "source": [
    "square = {x:x**2 for x in range(10)}\n",
    "\n",
    "print(square)"
   ]
  },
  {
   "cell_type": "code",
   "execution_count": 13,
   "id": "dcb1086f",
   "metadata": {},
   "outputs": [
    {
     "name": "stdout",
     "output_type": "stream",
     "text": [
      "{(10, 10.5): 'dhaka', (20.5, 192): 'chattogram', (101, 102): 'sylhet'}\n"
     ]
    }
   ],
   "source": [
    "Co_ordinates = [(10,10.5),(20.5,192),(101,102)]\n",
    "Locations = [\"dhaka\", \"chattogram\",\"sylhet\"]\n",
    "\n",
    "exact_location = {co_or : loc for co_or, loc in zip(Co_ordinates,Locations)}\n",
    "\n",
    "print(exact_location)"
   ]
  },
  {
   "cell_type": "code",
   "execution_count": 2,
   "id": "7b5f46e9",
   "metadata": {},
   "outputs": [
    {
     "data": {
      "text/plain": [
       "dict_keys(['a', 'b'])"
      ]
     },
     "execution_count": 2,
     "metadata": {},
     "output_type": "execute_result"
    }
   ],
   "source": [
    "{'a':1, 'b':2}.keys()"
   ]
  },
  {
   "cell_type": "code",
   "execution_count": null,
   "id": "75242630",
   "metadata": {},
   "outputs": [],
   "source": []
  }
 ],
 "metadata": {
  "kernelspec": {
   "display_name": "Python 3",
   "language": "python",
   "name": "python3"
  },
  "language_info": {
   "codemirror_mode": {
    "name": "ipython",
    "version": 3
   },
   "file_extension": ".py",
   "mimetype": "text/x-python",
   "name": "python",
   "nbconvert_exporter": "python",
   "pygments_lexer": "ipython3",
   "version": "3.13.7"
  }
 },
 "nbformat": 4,
 "nbformat_minor": 5
}
