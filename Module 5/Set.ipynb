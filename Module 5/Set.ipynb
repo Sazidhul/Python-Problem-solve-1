{
 "cells": [
  {
   "cell_type": "markdown",
   "id": "b2f4511e",
   "metadata": {},
   "source": [
    "# Set"
   ]
  },
  {
   "cell_type": "code",
   "execution_count": 1,
   "id": "05634976",
   "metadata": {},
   "outputs": [
    {
     "name": "stdout",
     "output_type": "stream",
     "text": [
      "<class 'set'> {1, 2, 3}\n"
     ]
    }
   ],
   "source": [
    "A = { 1, 2, 3}\n",
    "\n",
    "print(type(A), A)"
   ]
  },
  {
   "cell_type": "code",
   "execution_count": null,
   "id": "5d1af6cc",
   "metadata": {},
   "outputs": [
    {
     "name": "stdout",
     "output_type": "stream",
     "text": [
      "<class 'list'>\n",
      "<class 'tuple'>\n",
      "<class 'set'>\n"
     ]
    }
   ],
   "source": [
    "## Empty structures\n",
    "B = []\n",
    "\n",
    "print(type(B))\n",
    "\n",
    "C = ()\n",
    "print(type(C))\n",
    "\n",
    "S = set()\n",
    "print(type(S))"
   ]
  },
  {
   "cell_type": "code",
   "execution_count": 3,
   "id": "9cb49908",
   "metadata": {},
   "outputs": [
    {
     "name": "stdout",
     "output_type": "stream",
     "text": [
      "not present\n",
      "10\n"
     ]
    }
   ],
   "source": [
    "S = {1, 2, 3, 4, 1, 2}\n",
    "\n",
    "if (10 in S):\n",
    "   print(\"3 is present\")\n",
    "else:\n",
    "   print(\"not present\")\n",
    "sum = 0\n",
    "\n",
    "for element in S:\n",
    "   sum+= element\n",
    "print(sum)\n"
   ]
  },
  {
   "cell_type": "markdown",
   "id": "36ead8dc",
   "metadata": {},
   "source": [
    "## Set Method"
   ]
  },
  {
   "cell_type": "code",
   "execution_count": 7,
   "id": "9702fc05",
   "metadata": {},
   "outputs": [
    {
     "name": "stdout",
     "output_type": "stream",
     "text": [
      "{1, 2, 3, 4, 5, 6}\n",
      "{1, 2, 3}\n",
      "False\n",
      "True\n"
     ]
    }
   ],
   "source": [
    "a = {1, 2, 3}\n",
    "b = {1, 2, 3, 5, 6, 4 }\n",
    "\n",
    "print(a.union(b))\n",
    "\n",
    "print(a.intersection(b))\n",
    "\n",
    "print(a.isdisjoint(b))\n",
    "\n",
    "print(a.issubset(b))"
   ]
  },
  {
   "cell_type": "code",
   "execution_count": null,
   "id": "b97ac8d5",
   "metadata": {},
   "outputs": [],
   "source": []
  }
 ],
 "metadata": {
  "kernelspec": {
   "display_name": "Python 3",
   "language": "python",
   "name": "python3"
  },
  "language_info": {
   "codemirror_mode": {
    "name": "ipython",
    "version": 3
   },
   "file_extension": ".py",
   "mimetype": "text/x-python",
   "name": "python",
   "nbconvert_exporter": "python",
   "pygments_lexer": "ipython3",
   "version": "3.13.7"
  }
 },
 "nbformat": 4,
 "nbformat_minor": 5
}
