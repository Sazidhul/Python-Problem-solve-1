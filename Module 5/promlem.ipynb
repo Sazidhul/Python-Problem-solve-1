{
 "cells": [
  {
   "cell_type": "markdown",
   "id": "697db68a",
   "metadata": {},
   "source": [
    "#### 1. Given a list of numbers, make a list with unique values"
   ]
  },
  {
   "cell_type": "code",
   "execution_count": 1,
   "id": "c9b4e9e1",
   "metadata": {},
   "outputs": [
    {
     "name": "stdout",
     "output_type": "stream",
     "text": [
      "[10, 20, 50, 30]\n"
     ]
    }
   ],
   "source": [
    "lst =[10, 20, 10, 30, 30, 50, 30, 50, 30, 10, 20, 10, 10]\n",
    "unique_values = set(lst)\n",
    "new_list = list(unique_values)\n",
    "print(new_list)"
   ]
  },
  {
   "cell_type": "markdown",
   "id": "d4e89472",
   "metadata": {},
   "source": [
    "### 2. Given a string, print the frequency of the words"
   ]
  },
  {
   "cell_type": "code",
   "execution_count": 2,
   "id": "0f6977c8",
   "metadata": {},
   "outputs": [
    {
     "name": "stdout",
     "output_type": "stream",
     "text": [
      "cout of data is 7\n",
      "cout of science is 1\n",
      "cout of machine is 3\n",
      "cout of learning is 2\n",
      "cout of analysis is 1\n",
      "cout of statistics is 1\n",
      "cout of models is 1\n",
      "cout of training is 1\n",
      "cout of validation is 2\n",
      "cout of features is 2\n",
      "cout of labels is 1\n",
      "cout of preprocessing is 1\n",
      "cout of tensors is 1\n",
      "cout of matrices is 1\n",
      "cout of visulization is 1\n",
      "cout of exploration is 1\n",
      "cout of pandas is 1\n",
      "cout of numpy is 1\n",
      "cout of matpolotlib is 1\n",
      "cout of seaborn is 1\n",
      "cout of scikit is 1\n",
      "cout of learn is 1\n",
      "cout of tensorflow is 1\n",
      "cout of pytorch is 1\n",
      "cout of deployment is 1\n",
      "cout of inference is 1\n",
      "cout of production is 1\n",
      "cout of monitoring is 1\n",
      "cout of reproducibility is 1\n",
      "cout of experiments is 1\n",
      "cout of results is 1\n",
      "cout of metrics is 1\n",
      "cout of accuracy is 1\n",
      "cout of precision is 1\n",
      "cout of recall is 1\n",
      "cout of f1 is 1\n",
      "cout of cross is 1\n"
     ]
    }
   ],
   "source": [
    "string = \"\"\" data science machine learning data analysis machine learning statistics data models data training data validation features features labels preprocessing data tensors matrices visulization exploration pandas numpy matpolotlib seaborn scikit learn tensorflow pytorch deployment inference production monitoring reproducibility experiments results metrics accuracy precision recall f1 cross validation data machine\"\"\"\n",
    "\n",
    "words = string.split()\n",
    "\n",
    "count = {}\n",
    "\n",
    "for word in words:\n",
    "   count[word] = count.get(word,0) +1\n",
    "\n",
    "for k,v in count.items():\n",
    "   print(f\"cout of {k} is {v}\")"
   ]
  }
 ],
 "metadata": {
  "kernelspec": {
   "display_name": "Python 3",
   "language": "python",
   "name": "python3"
  },
  "language_info": {
   "codemirror_mode": {
    "name": "ipython",
    "version": 3
   },
   "file_extension": ".py",
   "mimetype": "text/x-python",
   "name": "python",
   "nbconvert_exporter": "python",
   "pygments_lexer": "ipython3",
   "version": "3.13.7"
  }
 },
 "nbformat": 4,
 "nbformat_minor": 5
}
